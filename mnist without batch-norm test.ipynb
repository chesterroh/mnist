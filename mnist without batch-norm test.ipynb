{
 "cells": [
  {
   "cell_type": "markdown",
   "metadata": {
    "deletable": true,
    "editable": true
   },
   "source": [
    "\n",
    "- 복잡한 구조의 네트웍은 오히려 간단한 문제들에 있어서는 정확도가 더 떨어지는 모습\n",
    "- 그냥 BN 직접 구현해보고 차이 비교해보기 위해서 복잡하게 만들어본 시도 \n"
   ]
  },
  {
   "cell_type": "code",
   "execution_count": 1,
   "metadata": {
    "collapsed": true,
    "deletable": true,
    "editable": true
   },
   "outputs": [],
   "source": [
    "\n",
    "from mnist import MnistData\n",
    "import tensorflow as tf\n",
    "import numpy as np\n",
    "\n",
    "pickle_file = 'notMNIST_sanit.pickle'\n",
    "mnist = MnistData(pickle_file,one_hot=True)\n"
   ]
  },
  {
   "cell_type": "markdown",
   "metadata": {
    "deletable": true,
    "editable": true
   },
   "source": [
    "Building Graph   "
   ]
  },
  {
   "cell_type": "code",
   "execution_count": 5,
   "metadata": {
    "collapsed": false,
    "deletable": true,
    "editable": true
   },
   "outputs": [
    {
     "name": "stdout",
     "output_type": "stream",
     "text": [
      "Tensor(\"conv_nets_3/MaxPool_3:0\", shape=(?, 2, 2, 256), dtype=float32)\n",
      "(?, 2, 2, 256)\n",
      "256\n",
      "[2, 2, 256]\n"
     ]
    }
   ],
   "source": [
    "\n",
    "def weight_variable(shape):\n",
    "    return tf.Variable(tf.truncated_normal(shape,stddev=0.1))\n",
    "\n",
    "def bias_variable(shape):\n",
    "    return tf.Variable(tf.constant(0.1,shape=shape))\n",
    "\n",
    "def conv2d(x,W):\n",
    "    return tf.nn.conv2d(x,W,strides=[1,1,1,1],padding='SAME')\n",
    "\n",
    "def max_pool_2x2(x):\n",
    "    return tf.nn.max_pool(x,ksize=[1,2,2,1],strides=[1,2,2,1],padding='SAME')\n",
    "\n",
    "def conv_2_block(input,i_ch,o_ch):\n",
    "    w_conv1 = weight_variable([3,3,i_ch,o_ch])\n",
    "    b_conv1 = bias_variable([o_ch])\n",
    "    h_conv1 = tf.nn.relu(conv2d(input,w_conv1)+b_conv1)\n",
    "    w_conv2 = weight_variable([3,3,o_ch,o_ch])\n",
    "    b_conv2 = bias_variable([o_ch])\n",
    "    h_conv2 = tf.nn.relu(conv2d(h_conv1,w_conv2)+b_conv2)\n",
    "    h_pool = max_pool_2x2(h_conv2)\n",
    "    return h_pool\n",
    "\n",
    "def conv_3_block(input,i_ch,o_ch):\n",
    "    w_conv1 = weight_variable([3,3,i_ch,o_ch])\n",
    "    b_conv1 = bias_variable([o_ch])\n",
    "    h_conv1 = tf.nn.relu(conv2d(input,w_conv1)+b_conv1)\n",
    "    w_conv2 = weight_variable([3,3,o_ch,o_ch])\n",
    "    b_conv2 = bias_variable([o_ch])\n",
    "    h_conv2 = tf.nn.relu(conv2d(h_conv1,w_conv2)+b_conv2)\n",
    "    w_conv3 = weight_variable([3,3,o_ch,o_ch])\n",
    "    b_conv3 = bias_variable([o_ch])\n",
    "    h_conv3 = tf.nn.relu(conv2d(h_conv2,w_conv3)+b_conv3)\n",
    "    h_pool = max_pool_2x2(h_conv3)\n",
    "    return h_pool\n",
    "\n",
    "x = tf.placeholder(tf.float32,[None,28,28,1])\n",
    "y_ = tf.placeholder(tf.float32,[None,10])\n",
    "keep_prob = tf.placeholder(tf.float32)\n",
    "\n",
    "with tf.name_scope('conv_nets'):\n",
    "    conv_block1 = conv_2_block(x,1,32)\n",
    "    conv_block2 = conv_2_block(conv_block1,32,64)\n",
    "    conv_block3 = conv_3_block(conv_block2,64,128)\n",
    "    conv_block4 = conv_3_block(conv_block3,128,256)\n",
    "\n",
    "print(conv_block4)\n",
    "print(conv_block4.get_shape())\n",
    "print(conv_block4.get_shape()[-1])\n",
    "print(conv_block4.get_shape().as_list()[1:])\n",
    "\n",
    "with tf.name_scope('fc-layers'):\n",
    "    w_fc1 = weight_variable([2*2*256,512])\n",
    "    b_fc1 = weight_variable([512])\n",
    "    h_conv_flatten = tf.reshape(conv_block4,[-1,2*2*256])\n",
    "    h_fc1 = tf.nn.relu(tf.matmul(h_conv_flatten,w_fc1)+b_fc1)\n",
    "    w_fc2 = weight_variable([512,512])\n",
    "    b_fc2 = bias_variable([512])\n",
    "    h_fc2 = tf.nn.relu(tf.matmul(h_fc1,w_fc2)+b_fc2)\n",
    "    w_fc3 = weight_variable([512,10])\n",
    "    b_fc3 = bias_variable([10])\n",
    "    y = tf.matmul(h_fc2,w_fc3)+b_fc3\n"
   ]
  },
  {
   "cell_type": "markdown",
   "metadata": {
    "deletable": true,
    "editable": true
   },
   "source": [
    "휴... 듸게 바보같은 노가다 코딩이긴 한데 일단 좀 복잡하게 conv_net 10개 깔고 fully connected 2개 달았음 ㅠ.ㅠ"
   ]
  },
  {
   "cell_type": "code",
   "execution_count": null,
   "metadata": {
    "collapsed": false,
    "deletable": true,
    "editable": true
   },
   "outputs": [],
   "source": [
    "batch_size = 100\n",
    "total_batch = int(mnist.train_data.data_length/batch_size)\n",
    "epoch = 10\n",
    "\n",
    "with tf.name_scope('cross_entropy'):\n",
    "    cross_entropy = tf.reduce_mean(tf.nn.softmax_cross_entropy_with_logits(logits=y,labels=y_))\n",
    "    tf.summary.scalar('cross_entropy',cross_entropy)\n",
    "\n",
    "with tf.name_scope('train'):\n",
    "    global_step = tf.Variable(0,trainable=False)\n",
    "    starter_learning_rate = 1e-4\n",
    "    learning_rate = tf.train.exponential_decay(starter_learning_rate,global_step,5000,0.96,staircase=True)\n",
    "    train_step = tf.train.AdamOptimizer(learning_rate).minimize(cross_entropy,global_step=global_step)\n",
    "    correct_prediction = tf.equal(tf.argmax(y,1),tf.argmax(y_,1))\n",
    "    accuracy = tf.reduce_mean(tf.cast(correct_prediction,tf.float32))\n",
    "    tf.summary.scalar('accuracy',accuracy)\n",
    "    tf.summary.scalar('learning_rate',learning_rate)\n",
    "\n",
    "sess = tf.InteractiveSession()\n",
    "\n",
    "# merge all the summaries\n",
    "\n",
    "merged = tf.summary.merge_all()\n",
    "train_writer = tf.summary.FileWriter(\"./summary/train\",sess.graph)\n",
    "test_writer = tf.summary.FileWriter(\"./summary/test\",sess.graph)\n",
    "\n",
    "sess.run(tf.global_variables_initializer())\n"
   ]
  },
  {
   "cell_type": "markdown",
   "metadata": {
    "deletable": true,
    "editable": true
   },
   "source": [
    "자 여기서 부터는 일단 train 을 한번 돌려보자... "
   ]
  },
  {
   "cell_type": "code",
   "execution_count": null,
   "metadata": {
    "collapsed": false,
    "deletable": true,
    "editable": true
   },
   "outputs": [],
   "source": [
    "\n",
    "for i_epoch in range(epoch):\n",
    "    for i in range(total_batch):\n",
    "        batch = mnist.train_data.next_batch(batch_size)\n",
    "        xs = np.reshape(batch[0],(-1,28,28,1))\n",
    "        ys = batch[1]\n",
    "        summary, _ = sess.run([merged,train_step],feed_dict = { x: xs, y_: ys, keep_prob: 0.75})\n",
    "        train_writer.add_summary(summary,i_epoch*total_batch+i)\n",
    "\n",
    "        if i % 1000 == 0:\n",
    "            train_accuracy = accuracy.eval(feed_dict = { x: xs, y_: ys, keep_prob: 1.0})\n",
    "            print(\"epoch %d, batch_iteration %d, train_accuracy %g\" % (i_epoch,i,train_accuracy))\n",
    "            print(\"cross entropy %g\" % sess.run(cross_entropy, feed_dict = { x:xs,y_:ys, keep_prob: 1.0}))\n",
    "            valid_accuracy = accuracy.eval(feed_dict = { x: np.reshape(mnist.valid_data.images,(-1,28,28,1)), y_: mnist.valid_data.labels, keep_prob: 1.0})\n",
    "            print(\"validation accuracy %g\" % valid_accuracy)\n",
    "\n",
    "print(\"test accuracy %g\" %  accuracy.eval(feed_dict = { x: np.reshape(mnist.test_data.images,(-1,28,28,1)), y_: mnist.test_data.labels, keep_prob: 1.0}))\n",
    "\n"
   ]
  },
  {
   "cell_type": "markdown",
   "metadata": {
    "collapsed": true,
    "deletable": true,
    "editable": true
   },
   "source": [
    "\n",
    "- dropout, learning rate decay 이런것들이 오히려 나쁜 영향을 주는 듯... 가장 간단한 기본구조였을때의 test accuracy 는 96~97%사이\n",
    "- AdamOptimizer 랑 그냥 GradientDescentOptimizer 랑도 차이를 꽤 만들어내는 듯(?) -- crossentropy 를 계산하는 값도 다르게 진행됨 \n",
    "- 실험환경들 기록해두도록 할 것..  \n"
   ]
  },
  {
   "cell_type": "code",
   "execution_count": null,
   "metadata": {
    "collapsed": true,
    "deletable": true,
    "editable": true
   },
   "outputs": [],
   "source": []
  }
 ],
 "metadata": {
  "kernelspec": {
   "display_name": "Python 3",
   "language": "python",
   "name": "python3"
  },
  "language_info": {
   "codemirror_mode": {
    "name": "ipython",
    "version": 3
   },
   "file_extension": ".py",
   "mimetype": "text/x-python",
   "name": "python",
   "nbconvert_exporter": "python",
   "pygments_lexer": "ipython3",
   "version": "3.5.2"
  }
 },
 "nbformat": 4,
 "nbformat_minor": 2
}
