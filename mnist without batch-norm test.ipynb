{
 "cells": [
  {
   "cell_type": "markdown",
   "metadata": {
    "deletable": true,
    "editable": true
   },
   "source": [
    "\n",
    "- 복잡한 구조의 네트웍은 오히려 간단한 문제들에 있어서는 정확도가 더 떨어지는 모습\n",
    "- 그냥 BN 직접 구현해보고 차이 비교해보기 위해서 복잡하게 만들어본 시도 \n"
   ]
  },
  {
   "cell_type": "code",
   "execution_count": 1,
   "metadata": {
    "collapsed": true,
    "deletable": true,
    "editable": true
   },
   "outputs": [],
   "source": [
    "\n",
    "from mnist import MnistData\n",
    "import tensorflow as tf\n",
    "import numpy as np\n",
    "\n",
    "pickle_file = 'notMNIST_sanit.pickle'\n",
    "mnist = MnistData(pickle_file,one_hot=True)\n"
   ]
  },
  {
   "cell_type": "markdown",
   "metadata": {
    "deletable": true,
    "editable": true
   },
   "source": [
    "Building Graph   "
   ]
  },
  {
   "cell_type": "code",
   "execution_count": 5,
   "metadata": {
    "collapsed": false,
    "deletable": true,
    "editable": true
   },
   "outputs": [
    {
     "name": "stdout",
     "output_type": "stream",
     "text": [
      "(?, 2, 2, 256)\n",
      "(2, 2, 256)\n"
     ]
    }
   ],
   "source": [
    "\n",
    "def weight_variable(shape):\n",
    "    return tf.Variable(tf.truncated_normal(shape,stddev=0.1))\n",
    "\n",
    "def bias_variable(shape):\n",
    "    return tf.Variable(tf.constant(0.1,shape=shape))\n",
    "\n",
    "def conv2d(x,W):\n",
    "    return tf.nn.conv2d(x,W,strides=[1,1,1,1],padding='SAME')\n",
    "\n",
    "def max_pool_2x2(x):\n",
    "    return tf.nn.max_pool(x,ksize=[1,2,2,1],strides=[1,2,2,1],padding='SAME')\n",
    "\n",
    "def conv_2_block(input,i_ch,o_ch):\n",
    "    w_conv1 = weight_variable([3,3,i_ch,o_ch])\n",
    "    b_conv1 = bias_variable([o_ch])\n",
    "    h_conv1 = tf.nn.relu(conv2d(input,w_conv1)+b_conv1)\n",
    "    w_conv2 = weight_variable([3,3,o_ch,o_ch])\n",
    "    b_conv2 = bias_variable([o_ch])\n",
    "    h_conv2 = tf.nn.relu(conv2d(h_conv1,w_conv2)+b_conv2)\n",
    "    h_pool = max_pool_2x2(h_conv2)\n",
    "    return h_pool\n",
    "\n",
    "def conv_3_block(input,i_ch,o_ch):\n",
    "    w_conv1 = weight_variable([3,3,i_ch,o_ch])\n",
    "    b_conv1 = bias_variable([o_ch])\n",
    "    h_conv1 = tf.nn.relu(conv2d(input,w_conv1)+b_conv1)\n",
    "    w_conv2 = weight_variable([3,3,o_ch,o_ch])\n",
    "    b_conv2 = bias_variable([o_ch])\n",
    "    h_conv2 = tf.nn.relu(conv2d(h_conv1,w_conv2)+b_conv2)\n",
    "    w_conv3 = weight_variable([3,3,o_ch,o_ch])\n",
    "    b_conv3 = bias_variable([o_ch])\n",
    "    h_conv3 = tf.nn.relu(conv2d(h_conv2,w_conv3)+b_conv3)\n",
    "    h_pool = max_pool_2x2(h_conv3)\n",
    "    return h_pool\n",
    "\n",
    "x = tf.placeholder(tf.float32,[None,28,28,1])\n",
    "y_ = tf.placeholder(tf.float32,[None,10])\n",
    "keep_prob = tf.placeholder(tf.float32)\n",
    "\n",
    "with tf.name_scope('conv_nets'):\n",
    "    conv_block1 = conv_2_block(x,1,32)\n",
    "    conv_block2 = conv_2_block(conv_block1,32,64)\n",
    "    conv_block3 = conv_3_block(conv_block2,64,128)\n",
    "    conv_block4 = conv_3_block(conv_block3,128,256)\n",
    "\n",
    "with tf.name_scope('fc-layers'):\n",
    "    w_fc1 = weight_variable([2*2*256,512])\n",
    "    b_fc1 = weight_variable([512])\n",
    "    h_conv_flatten = tf.reshape(conv_block4,[-1,2*2*256])\n",
    "    h_fc1 = tf.nn.relu(tf.matmul(h_conv_flatten,w_fc1)+b_fc1)\n",
    "    w_fc2 = weight_variable([512,512])\n",
    "    b_fc2 = bias_variable([512])\n",
    "    h_fc2 = tf.nn.relu(tf.matmul(h_fc1,w_fc2)+b_fc2)\n",
    "    w_fc3 = weight_variable([512,10])\n",
    "    b_fc3 = bias_variable([10])\n",
    "    y = tf.matmul(h_fc2,w_fc3)+b_fc3\n"
   ]
  },
  {
   "cell_type": "markdown",
   "metadata": {
    "deletable": true,
    "editable": true
   },
   "source": [
    "휴... 듸게 바보같은 노가다 코딩이긴 한데 일단 좀 복잡하게 conv_net 10개 깔고 fully connected 2개 달았음 ㅠ.ㅠ"
   ]
  },
  {
   "cell_type": "code",
   "execution_count": 3,
   "metadata": {
    "collapsed": false,
    "deletable": true,
    "editable": true
   },
   "outputs": [],
   "source": [
    "batch_size = 100\n",
    "total_batch = int(mnist.train_data.data_length/batch_size)\n",
    "epoch = 10\n",
    "\n",
    "with tf.name_scope('cross_entropy'):\n",
    "    cross_entropy = tf.reduce_mean(tf.nn.softmax_cross_entropy_with_logits(logits=y,labels=y_))\n",
    "    tf.summary.scalar('cross_entropy',cross_entropy)\n",
    "\n",
    "with tf.name_scope('train'):\n",
    "    global_step = tf.Variable(0,trainable=False)\n",
    "    starter_learning_rate = 1e-4\n",
    "    learning_rate = tf.train.exponential_decay(starter_learning_rate,global_step,5000,0.96,staircase=True)\n",
    "    train_step = tf.train.AdamOptimizer(learning_rate).minimize(cross_entropy,global_step=global_step)\n",
    "    correct_prediction = tf.equal(tf.argmax(y,1),tf.argmax(y_,1))\n",
    "    accuracy = tf.reduce_mean(tf.cast(correct_prediction,tf.float32))\n",
    "    tf.summary.scalar('accuracy',accuracy)\n",
    "    tf.summary.scalar('learning_rate',learning_rate)\n",
    "\n",
    "sess = tf.InteractiveSession()\n",
    "\n",
    "# merge all the summaries\n",
    "\n",
    "merged = tf.summary.merge_all()\n",
    "train_writer = tf.summary.FileWriter(\"./summary/train\",sess.graph)\n",
    "test_writer = tf.summary.FileWriter(\"./summary/test\",sess.graph)\n",
    "\n",
    "sess.run(tf.global_variables_initializer())\n"
   ]
  },
  {
   "cell_type": "markdown",
   "metadata": {
    "deletable": true,
    "editable": true
   },
   "source": [
    "자 여기서 부터는 일단 train 을 한번 돌려보자... "
   ]
  },
  {
   "cell_type": "code",
   "execution_count": 4,
   "metadata": {
    "collapsed": false,
    "deletable": true,
    "editable": true
   },
   "outputs": [
    {
     "name": "stdout",
     "output_type": "stream",
     "text": [
      "epoch 0, batch_iteration 0, train_accuracy 0.09\n",
      "cross entropy 567.408\n",
      "validation accuracy 0.0776955\n",
      "epoch 0, batch_iteration 1000, train_accuracy 0.76\n",
      "cross entropy 1.94813\n",
      "validation accuracy 0.736162\n",
      "epoch 0, batch_iteration 2000, train_accuracy 0.86\n",
      "cross entropy 0.425226\n",
      "validation accuracy 0.778147\n",
      "epoch 0, batch_iteration 3000, train_accuracy 0.86\n",
      "cross entropy 0.556603\n",
      "validation accuracy 0.794904\n",
      "epoch 0, batch_iteration 4000, train_accuracy 0.86\n",
      "cross entropy 0.543985\n",
      "validation accuracy 0.813669\n",
      "epoch 1, batch_iteration 0, train_accuracy 0.78\n",
      "cross entropy 0.855827\n",
      "validation accuracy 0.829609\n",
      "epoch 1, batch_iteration 1000, train_accuracy 0.86\n",
      "cross entropy 0.399226\n",
      "validation accuracy 0.837643\n",
      "epoch 1, batch_iteration 2000, train_accuracy 0.83\n",
      "cross entropy 0.488784\n",
      "validation accuracy 0.846554\n",
      "epoch 1, batch_iteration 3000, train_accuracy 0.84\n",
      "cross entropy 0.529005\n",
      "validation accuracy 0.850822\n",
      "epoch 1, batch_iteration 4000, train_accuracy 0.88\n",
      "cross entropy 0.429417\n",
      "validation accuracy 0.861993\n",
      "epoch 2, batch_iteration 0, train_accuracy 0.88\n",
      "cross entropy 0.43017\n",
      "validation accuracy 0.868081\n",
      "epoch 2, batch_iteration 1000, train_accuracy 0.95\n",
      "cross entropy 0.192089\n",
      "validation accuracy 0.879503\n",
      "epoch 2, batch_iteration 2000, train_accuracy 0.88\n",
      "cross entropy 0.350717\n",
      "validation accuracy 0.873666\n",
      "epoch 2, batch_iteration 3000, train_accuracy 0.87\n",
      "cross entropy 0.409132\n",
      "validation accuracy 0.885904\n",
      "epoch 2, batch_iteration 4000, train_accuracy 0.9\n",
      "cross entropy 0.33529\n",
      "validation accuracy 0.885276\n",
      "epoch 3, batch_iteration 0, train_accuracy 0.97\n",
      "cross entropy 0.148319\n",
      "validation accuracy 0.887975\n",
      "epoch 3, batch_iteration 1000, train_accuracy 0.91\n",
      "cross entropy 0.202663\n",
      "validation accuracy 0.894063\n",
      "epoch 3, batch_iteration 2000, train_accuracy 0.91\n",
      "cross entropy 0.316285\n",
      "validation accuracy 0.892431\n",
      "epoch 3, batch_iteration 3000, train_accuracy 0.96\n",
      "cross entropy 0.17075\n",
      "validation accuracy 0.89764\n",
      "epoch 3, batch_iteration 4000, train_accuracy 0.97\n",
      "cross entropy 0.136582\n",
      "validation accuracy 0.901845\n",
      "epoch 4, batch_iteration 0, train_accuracy 0.9\n",
      "cross entropy 0.280175\n",
      "validation accuracy 0.899397\n",
      "epoch 4, batch_iteration 1000, train_accuracy 0.96\n",
      "cross entropy 0.166792\n",
      "validation accuracy 0.901845\n",
      "epoch 4, batch_iteration 2000, train_accuracy 0.91\n",
      "cross entropy 0.312455\n",
      "validation accuracy 0.903916\n",
      "epoch 4, batch_iteration 3000, train_accuracy 0.95\n",
      "cross entropy 0.191244\n",
      "validation accuracy 0.90605\n",
      "epoch 4, batch_iteration 4000, train_accuracy 0.92\n",
      "cross entropy 0.226666\n",
      "validation accuracy 0.906552\n",
      "epoch 5, batch_iteration 0, train_accuracy 0.97\n",
      "cross entropy 0.11691\n",
      "validation accuracy 0.910129\n",
      "epoch 5, batch_iteration 1000, train_accuracy 0.91\n",
      "cross entropy 0.344391\n",
      "validation accuracy 0.909627\n",
      "epoch 5, batch_iteration 2000, train_accuracy 0.88\n",
      "cross entropy 0.370361\n",
      "validation accuracy 0.912137\n",
      "epoch 5, batch_iteration 3000, train_accuracy 0.91\n",
      "cross entropy 0.229043\n",
      "validation accuracy 0.909501\n",
      "epoch 5, batch_iteration 4000, train_accuracy 0.93\n",
      "cross entropy 0.239196\n",
      "validation accuracy 0.910505\n",
      "epoch 6, batch_iteration 0, train_accuracy 0.94\n",
      "cross entropy 0.166837\n",
      "validation accuracy 0.910568\n",
      "epoch 6, batch_iteration 1000, train_accuracy 0.96\n",
      "cross entropy 0.123613\n",
      "validation accuracy 0.914208\n",
      "epoch 6, batch_iteration 2000, train_accuracy 0.92\n",
      "cross entropy 0.255431\n",
      "validation accuracy 0.913832\n",
      "epoch 6, batch_iteration 3000, train_accuracy 0.94\n",
      "cross entropy 0.14866\n",
      "validation accuracy 0.912702\n",
      "epoch 6, batch_iteration 4000, train_accuracy 0.94\n",
      "cross entropy 0.16176\n",
      "validation accuracy 0.916907\n",
      "epoch 7, batch_iteration 0, train_accuracy 0.97\n",
      "cross entropy 0.117282\n",
      "validation accuracy 0.915589\n",
      "epoch 7, batch_iteration 1000, train_accuracy 0.95\n",
      "cross entropy 0.172142\n",
      "validation accuracy 0.921049\n",
      "epoch 7, batch_iteration 2000, train_accuracy 0.93\n",
      "cross entropy 0.246618\n",
      "validation accuracy 0.91697\n",
      "epoch 7, batch_iteration 3000, train_accuracy 0.97\n",
      "cross entropy 0.097812\n",
      "validation accuracy 0.91948\n",
      "epoch 7, batch_iteration 4000, train_accuracy 0.93\n",
      "cross entropy 0.212316\n",
      "validation accuracy 0.919731\n",
      "epoch 8, batch_iteration 0, train_accuracy 0.95\n",
      "cross entropy 0.156463\n",
      "validation accuracy 0.920861\n",
      "epoch 8, batch_iteration 1000, train_accuracy 0.93\n",
      "cross entropy 0.190357\n",
      "validation accuracy 0.918288\n",
      "epoch 8, batch_iteration 2000, train_accuracy 0.96\n",
      "cross entropy 0.133989\n",
      "validation accuracy 0.917848\n",
      "epoch 8, batch_iteration 3000, train_accuracy 0.98\n",
      "cross entropy 0.0918108\n",
      "validation accuracy 0.919103\n",
      "epoch 8, batch_iteration 4000, train_accuracy 0.98\n",
      "cross entropy 0.0825685\n",
      "validation accuracy 0.92061\n",
      "epoch 9, batch_iteration 0, train_accuracy 0.97\n",
      "cross entropy 0.108995\n",
      "validation accuracy 0.920045\n",
      "epoch 9, batch_iteration 1000, train_accuracy 0.96\n",
      "cross entropy 0.115451\n",
      "validation accuracy 0.922179\n",
      "epoch 9, batch_iteration 2000, train_accuracy 0.95\n",
      "cross entropy 0.173186\n",
      "validation accuracy 0.921928\n",
      "epoch 9, batch_iteration 3000, train_accuracy 0.96\n",
      "cross entropy 0.114757\n",
      "validation accuracy 0.925254\n",
      "epoch 9, batch_iteration 4000, train_accuracy 0.94\n",
      "cross entropy 0.118481\n",
      "validation accuracy 0.923622\n",
      "test accuracy 0.969114\n"
     ]
    }
   ],
   "source": [
    "\n",
    "for i_epoch in range(epoch):\n",
    "    for i in range(total_batch):\n",
    "        batch = mnist.train_data.next_batch(batch_size)\n",
    "        xs = np.reshape(batch[0],(-1,28,28,1))\n",
    "        ys = batch[1]\n",
    "        summary, _ = sess.run([merged,train_step],feed_dict = { x: xs, y_: ys, keep_prob: 0.75})\n",
    "        train_writer.add_summary(summary,i_epoch*total_batch+i)\n",
    "\n",
    "        if i % 1000 == 0:\n",
    "            train_accuracy = accuracy.eval(feed_dict = { x: xs, y_: ys, keep_prob: 1.0})\n",
    "            print(\"epoch %d, batch_iteration %d, train_accuracy %g\" % (i_epoch,i,train_accuracy))\n",
    "            print(\"cross entropy %g\" % sess.run(cross_entropy, feed_dict = { x:xs,y_:ys, keep_prob: 1.0}))\n",
    "            valid_accuracy = accuracy.eval(feed_dict = { x: np.reshape(mnist.valid_data.images,(-1,28,28,1)), y_: mnist.valid_data.labels, keep_prob: 1.0})\n",
    "            print(\"validation accuracy %g\" % valid_accuracy)\n",
    "\n",
    "print(\"test accuracy %g\" %  accuracy.eval(feed_dict = { x: np.reshape(mnist.test_data.images,(-1,28,28,1)), y_: mnist.test_data.labels, keep_prob: 1.0}))\n",
    "\n"
   ]
  },
  {
   "cell_type": "markdown",
   "metadata": {
    "collapsed": true,
    "deletable": true,
    "editable": true
   },
   "source": [
    "\n",
    "- dropout, learning rate decay 이런것들이 오히려 나쁜 영향을 주는 듯... 가장 간단한 기본구조였을때의 test accuracy 는 96~97%사이\n",
    "- AdamOptimizer 랑 그냥 GradientDescentOptimizer 랑도 차이를 꽤 만들어내는 듯(?) -- crossentropy 를 계산하는 값도 다르게 진행됨 \n",
    "- 실험환경들 기록해두도록 할 것..  \n"
   ]
  },
  {
   "cell_type": "code",
   "execution_count": null,
   "metadata": {
    "collapsed": true,
    "deletable": true,
    "editable": true
   },
   "outputs": [],
   "source": []
  }
 ],
 "metadata": {
  "kernelspec": {
   "display_name": "Python 3",
   "language": "python",
   "name": "python3"
  },
  "language_info": {
   "codemirror_mode": {
    "name": "ipython",
    "version": 3
   },
   "file_extension": ".py",
   "mimetype": "text/x-python",
   "name": "python",
   "nbconvert_exporter": "python",
   "pygments_lexer": "ipython3",
   "version": "3.5.2"
  }
 },
 "nbformat": 4,
 "nbformat_minor": 2
}
